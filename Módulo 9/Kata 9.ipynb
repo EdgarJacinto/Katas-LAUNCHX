{
 "cells": [
  {
   "cell_type": "code",
   "execution_count": 1,
   "metadata": {},
   "outputs": [],
   "source": [
    "def rocket_parts():\n",
    "    print('payload, propellant, structure')"
   ]
  },
  {
   "cell_type": "code",
   "execution_count": 2,
   "metadata": {},
   "outputs": [
    {
     "name": "stdout",
     "output_type": "stream",
     "text": [
      "payload, propellant, structure\n"
     ]
    }
   ],
   "source": [
    "rocket_parts()"
   ]
  },
  {
   "cell_type": "code",
   "execution_count": 6,
   "metadata": {},
   "outputs": [
    {
     "name": "stdout",
     "output_type": "stream",
     "text": [
      "payload, propellant, structure\n"
     ]
    }
   ],
   "source": [
    "output = rocket_parts()\n",
    "\n",
    "output"
   ]
  },
  {
   "cell_type": "code",
   "execution_count": 12,
   "metadata": {},
   "outputs": [],
   "source": [
    "def reporte(tanque_1, tanque_2, tanque_3):\n",
    "    promedio = (tanque_1 + tanque_2 + tanque_3) / 3\n",
    "    return f\"\"\"Reporte de combustible:\n",
    "    Promedio: {promedio}%\n",
    "    Tanque principal: {tanque_1}%\n",
    "    Tanque secundario: {tanque_2}%\n",
    "    Tanque de reserva: {tanque_3}% \n",
    "    \"\"\""
   ]
  },
  {
   "cell_type": "code",
   "execution_count": 13,
   "metadata": {},
   "outputs": [
    {
     "name": "stdout",
     "output_type": "stream",
     "text": [
      "Reporte de combustible:\n",
      "    Promedio: 78.33333333333333%\n",
      "    Tanque principal: 80%\n",
      "    Tanque secundario: 70%\n",
      "    Tanque de reserva: 85% \n",
      "    \n"
     ]
    }
   ],
   "source": [
    "print(reporte(80, 70, 85))"
   ]
  },
  {
   "cell_type": "code",
   "execution_count": 16,
   "metadata": {},
   "outputs": [
    {
     "name": "stdout",
     "output_type": "stream",
     "text": [
      "Reporte de combustible:\n",
      "    Promedio: 78.0%\n",
      "    Tanque principal: 88%\n",
      "    Tanque secundario: 76%\n",
      "    Tanque de reserva: 70% \n",
      "    \n"
     ]
    }
   ],
   "source": [
    "print(reporte(88, 76, 70))"
   ]
  },
  {
   "cell_type": "code",
   "execution_count": 14,
   "metadata": {},
   "outputs": [
    {
     "name": "stdout",
     "output_type": "stream",
     "text": [
      "82.0\n"
     ]
    }
   ],
   "source": [
    "def promedio(values):\n",
    "    total = sum(values)\n",
    "    numero_variables = len(values)\n",
    "    return total / numero_variables\n",
    "\n",
    "\n",
    "print(promedio([80, 85, 81]) )"
   ]
  },
  {
   "cell_type": "code",
   "execution_count": null,
   "metadata": {},
   "outputs": [],
   "source": [
    "\n",
    "def mission_report(pre_launch_time, flight_time, destination, external_tank, main_tank):\n",
    "    return f\"\"\"\n",
    "    Mission to {destination}\n",
    "    Total travel time: {pre_launch_time + flight_time} minutes\n",
    "    Total fuel left: {external_tank + main_tank} gallons\n",
    "    \"\"\"\n",
    "\n",
    "print(mission_report(14, 51, \"Moon\", 200000, 300000))"
   ]
  },
  {
   "cell_type": "code",
   "execution_count": 2,
   "metadata": {},
   "outputs": [
    {
     "name": "stdout",
     "output_type": "stream",
     "text": [
      "\n",
      "    Misión a Luna\n",
      "    Tiempo total de vuelo: 65\n",
      "    Total de combustible: 500000\n",
      "    \n"
     ]
    }
   ],
   "source": [
    "def Informe_mision(prelanzamiento, tiempo_vuelo, destino, tanque_externo, tanque_interno):\n",
    "    return f\"\"\"\n",
    "    Misión a {destino.title()}\n",
    "    Tiempo total de vuelo: {prelanzamiento+tiempo_vuelo}\n",
    "    Total de combustible: {tanque_externo+tanque_interno}\n",
    "    \"\"\"\n",
    "print(Informe_mision(14, 51, \"luna\", 200000, 300000))"
   ]
  },
  {
   "cell_type": "code",
   "execution_count": 4,
   "metadata": {},
   "outputs": [
    {
     "name": "stdout",
     "output_type": "stream",
     "text": [
      "\n",
      "    Misión a Luna\n",
      "    en 76 minutos\n",
      "    con reservas de combustible de 500000 Lts.\n",
      "    \n"
     ]
    }
   ],
   "source": [
    "def status_mision(destino,*minutes, **fuel_reservoirs):\n",
    "    return f\"\"\"\n",
    "    Misión a {destino.title()}\n",
    "    en {sum(minutes)} minutos\n",
    "    con reservas de combustible de {sum(fuel_reservoirs.values())} Lts.\n",
    "    \"\"\"\n",
    "print(status_mision(\"luna\", 10, 15, 51, main=300000, external=200000))"
   ]
  },
  {
   "cell_type": "markdown",
   "metadata": {},
   "source": [
    "Misión a {destino.title()}\n",
    "    en {sum(minutes)} minutos\n",
    "    con reservas de combustible de\"\"\""
   ]
  },
  {
   "cell_type": "code",
   "execution_count": 9,
   "metadata": {},
   "outputs": [
    {
     "name": "stdout",
     "output_type": "stream",
     "text": [
      "\n",
      "    Misión a Luna\n",
      "    en 76 minutos\n",
      "    con reservas de combustible de 500000 Lts.\n",
      "    \n"
     ]
    }
   ],
   "source": [
    "def status_mision(destino,*minutes, **fuel_reservoirs):\n",
    "    return f\"\"\"\n",
    "    Misión a {destino.title()}\n",
    "    en {sum(minutes)} minutos\n",
    "    con reservas de combustible de {sum(fuel_reservoirs.values())} Lts.\n",
    "    \"\"\"\n",
    "print(status_mision(\"luna\", 10, 15, 51, main=300000, external=200000))"
   ]
  },
  {
   "cell_type": "code",
   "execution_count": 34,
   "metadata": {},
   "outputs": [
    {
     "name": "stdout",
     "output_type": "stream",
     "text": [
      "- Misión a Luna\n",
      "- en 76 minutos\n",
      "- con reservas de combustible de 500,000 Lts.\n",
      "**Reserva de tanques:\n",
      "- Main:300000\n",
      "- External:200000\n",
      "None\n"
     ]
    }
   ],
   "source": [
    "template = \"\"\"- Misión a {destino}\n",
    "- en {minutes} minutos\"\"\"\n",
    "template2 =\"\"\"- con reservas de combustible de {:,} Lts.\"\"\"\n",
    "def status_mision(destino,*minutes, **fuel_reservoirs):\n",
    "    total= sum(fuel_reservoirs.values())\n",
    "    print (template.format(destino=destino.title(),minutes=sum(minutes)))\n",
    "    print(template2.format(total))\n",
    "    print ('**Reserva de tanques:')\n",
    "    for tanque, valor in fuel_reservoirs.items():\n",
    "        print(f'- {tanque.title()}:{valor}')\n",
    "print(status_mision(\"luna\", 10, 15, 51, main=300000, external=200000))"
   ]
  },
  {
   "cell_type": "markdown",
   "metadata": {},
   "source": [
    "## Por que el none en la salida?"
   ]
  }
 ],
 "metadata": {
  "interpreter": {
   "hash": "8af10757d2bcd5203fb5e194b066b22134c339615910c93456ca168f79d9d5ed"
  },
  "kernelspec": {
   "display_name": "Python 3.10.2 64-bit (windows store)",
   "language": "python",
   "name": "python3"
  },
  "language_info": {
   "codemirror_mode": {
    "name": "ipython",
    "version": 3
   },
   "file_extension": ".py",
   "mimetype": "text/x-python",
   "name": "python",
   "nbconvert_exporter": "python",
   "pygments_lexer": "ipython3",
   "version": "3.10.2"
  },
  "orig_nbformat": 4
 },
 "nbformat": 4,
 "nbformat_minor": 2
}
