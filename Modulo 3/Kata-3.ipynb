{
 "cells": [
  {
   "cell_type": "markdown",
   "metadata": {},
   "source": [
    "##Lógica condicional anidada"
   ]
  },
  {
   "cell_type": "code",
   "execution_count": 2,
   "metadata": {},
   "outputs": [
    {
     "name": "stdout",
     "output_type": "stream",
     "text": [
      "a es menor que b\n"
     ]
    }
   ],
   "source": [
    "a = 16\n",
    "b = 25\n",
    "c = 27\n",
    "if a > b:\n",
    "    if b > c:\n",
    "        print (\"a es mayor que b y b es mayor que c\")\n",
    "    else: \n",
    "        print (\"a es mayor que b y menor que c\")\n",
    "elif a == b:\n",
    "    print (\"a es igual que b\")\n",
    "else:\n",
    "    print (\"a es menor que b\")"
   ]
  },
  {
   "cell_type": "code",
   "execution_count": 3,
   "metadata": {},
   "outputs": [
    {
     "name": "stdout",
     "output_type": "stream",
     "text": [
      "57\n"
     ]
    }
   ],
   "source": [
    "a = 23\n",
    "b = 34\n",
    "if a == 34 or b == 34:\n",
    "    print(a + b)"
   ]
  },
  {
   "cell_type": "markdown",
   "metadata": {},
   "source": [
    "Ejercicio:\n",
    "\n",
    "Imprir una advertencia si un asteroide se acerca a la Tierra demasiado rápido. La velocidad del asteroide varía dependiendo de lo cerca que esté del sol, y cualquier velocidad superior a 25 kilómetros por segundo (km/s) merece una advertencia\n",
    "\n",
    "Un asteroide se acerca, y viaja a una velocidad de 49 km/s.\n",
    "\n",
    " Añadir el código necesario para crear una variable que guarde la velocidad del asteroide.\n",
    "\n",
    " Escribe una expresión de prueba para calcular si necesita una advertencia.\n",
    " \n",
    " Agregue las instrucciones que se ejecutarán si la expresión de prueba es true o false.\n",
    "\n"
   ]
  },
  {
   "cell_type": "code",
   "execution_count": 10,
   "metadata": {},
   "outputs": [
    {
     "name": "stdout",
     "output_type": "stream",
     "text": [
      "¡Se aproxima un asteroide, temed de Dios hijos míos :v!\n"
     ]
    }
   ],
   "source": [
    "Asteroide = 49\n",
    "VelTope = 25\n",
    "Warning = \"¡Se aproxima un asteroide, temed de Dios hijos míos :v!\"\n",
    "\n",
    "if Asteroide >= VelTope: \n",
    "    print(Warning)\n",
    "else:\n",
    "    print(\"¡Todo esta perfectamente!\")"
   ]
  },
  {
   "cell_type": "markdown",
   "metadata": {},
   "source": [
    "##とても勉強でしました‼"
   ]
  },
  {
   "cell_type": "markdown",
   "metadata": {},
   "source": [
    "\n",
    "\n",
    "Si un asteroide entra en la atmósfera de la Tierra a una velocidad mayor o igual a 20 km/s, a veces \n",
    "produce un rayo de luz que se puede ver desde la Tierra. Escribe la lógica condicional que usa \n",
    "declaraciones if, else, y elif para alertar a las personas de todo el mundo que deben buscar un asteroide \n",
    "en el cielo. \n",
    "\n",
    "¡Hay uno que se dirige a la tierra ahora a una velocidad de 19 km/s!\n",
    "\n"
   ]
  },
  {
   "cell_type": "code",
   "execution_count": 12,
   "metadata": {},
   "outputs": [
    {
     "name": "stdout",
     "output_type": "stream",
     "text": [
      "¡Todo esta perfectamente!, hoy no moriremos (ﾉ◕ヮ◕)ﾉ*:･ﾟ✧\n"
     ]
    }
   ],
   "source": [
    "Asteroide = 19\n",
    "VelTope = 20\n",
    "Warning = \"¡Se aproxima un asteroide, busquenlo en el cielo o busquen refugio!\"\n",
    "if Asteroide > VelTope:\n",
    "    print(Warning)\n",
    "elif Asteroide == VelTope:\n",
    "    print(Warning)\n",
    "else:\n",
    "    print(\"¡Todo esta perfectamente!, hoy no moriremos (ﾉ◕ヮ◕)ﾉ*:･ﾟ✧\")\n",
    "    "
   ]
  },
  {
   "cell_type": "code",
   "execution_count": 23,
   "metadata": {},
   "outputs": [
    {
     "name": "stdout",
     "output_type": "stream",
     "text": [
      "¡Todo esta perfectamente!, hoy no moriremos (ﾉ◕ヮ◕)ﾉ*:･ﾟ✧\n"
     ]
    }
   ],
   "source": [
    "Vel_Asteroide = 24\n",
    "T_Asteroide = 24\n",
    "Warning = \"¡Se aproxima un asteroide, busquenlo en el cielo o busquen refugio!\"\n",
    "Warning2 = \"¡Se verá una luz mágica en el cielo ✌.ʕʘ‿ʘʔ.✌\"\n",
    "if Vel_Asteroide > 25 and T_Asteroide >= 25:\n",
    "    print(Warning,\"\\n\",Warning2)\n",
    "elif Vel_Asteroide > 25  and T_Asteroide <= 25:\n",
    "    print(Warning)\n",
    "elif Vel_Asteroide < 25  and T_Asteroide >= 25:\n",
    "    print(Warning2)\n",
    "else:\n",
    "    print(\"¡Todo esta perfectamente!, hoy no moriremos (ﾉ◕ヮ◕)ﾉ*:･ﾟ✧\")"
   ]
  }
 ],
 "metadata": {
  "interpreter": {
   "hash": "4ab8c9e3393de0bc511cb4c98779d01a1294e901e4f768a5c57fb268847facdd"
  },
  "kernelspec": {
   "display_name": "Python 3.10.2 64-bit",
   "language": "python",
   "name": "python3"
  },
  "language_info": {
   "codemirror_mode": {
    "name": "ipython",
    "version": 3
   },
   "file_extension": ".py",
   "mimetype": "text/x-python",
   "name": "python",
   "nbconvert_exporter": "python",
   "pygments_lexer": "ipython3",
   "version": "3.10.2"
  },
  "orig_nbformat": 4
 },
 "nbformat": 4,
 "nbformat_minor": 2
}
