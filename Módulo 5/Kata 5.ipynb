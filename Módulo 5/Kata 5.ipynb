{
 "cells": [
  {
   "cell_type": "code",
   "execution_count": 1,
   "metadata": {},
   "outputs": [
    {
     "name": "stdout",
     "output_type": "stream",
     "text": [
      "390609000\n"
     ]
    }
   ],
   "source": [
    "Tierra = 149600000  \n",
    "Júpiter = 778600000\n",
    "Distancia = (Júpiter - Tierra) * 0.621\n",
    "print(int(Distancia))\n"
   ]
  },
  {
   "cell_type": "code",
   "execution_count": 16,
   "metadata": {},
   "outputs": [],
   "source": [
    "import math\n",
    "planeta1 = input ('Ingresa una distancia de un planeta con respecto al sol')\n",
    "planeta2 = input ('Ingresa otra distancia de un planeta con respecto al sol')\n",
    "planeta1 = int(planeta1) \n",
    "planeta2 = int(planeta2)\n",
    "Distancia = (planeta2 - planeta1) * 0.621\n",
    "print(abs(Distancia))\n"
   ]
  },
  {
   "cell_type": "code",
   "execution_count": 15,
   "metadata": {},
   "outputs": [
    {
     "name": "stdout",
     "output_type": "stream",
     "text": [
      "7658999937.072\n"
     ]
    }
   ],
   "source": [
    "planeta1 = int(planeta1) \n",
    "planeta2 = int(planeta2)\n",
    "Distancia = (planeta1 - planeta2) * 0.621\n",
    "print(abs(Distancia))"
   ]
  }
 ],
 "metadata": {
  "interpreter": {
   "hash": "4ab8c9e3393de0bc511cb4c98779d01a1294e901e4f768a5c57fb268847facdd"
  },
  "kernelspec": {
   "display_name": "Python 3.10.2 64-bit",
   "language": "python",
   "name": "python3"
  },
  "language_info": {
   "codemirror_mode": {
    "name": "ipython",
    "version": 3
   },
   "file_extension": ".py",
   "mimetype": "text/x-python",
   "name": "python",
   "nbconvert_exporter": "python",
   "pygments_lexer": "ipython3",
   "version": "3.10.2"
  },
  "orig_nbformat": 4
 },
 "nbformat": 4,
 "nbformat_minor": 2
}
