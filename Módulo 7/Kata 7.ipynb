{
 "cells": [
  {
   "cell_type": "markdown",
   "metadata": {},
   "source": [
    "## Ejercicio 1\n",
    "Creación de bucle while"
   ]
  },
  {
   "cell_type": "code",
   "execution_count": null,
   "metadata": {},
   "outputs": [],
   "source": [
    "new_planet = ''\n",
    "planets = []\n",
    "\n",
    "print('Escriba nombres de planetas y para finalizar el ingreso de escriba done')\n",
    "while new_planet.lower() != 'done':\n",
    "    if new_planet:\n",
    "        nombres.append(new_planet)\n",
    "    new_planet = input('Agregar nuevo')"
   ]
  }
 ],
 "metadata": {
  "language_info": {
   "name": "python"
  },
  "orig_nbformat": 4
 },
 "nbformat": 4,
 "nbformat_minor": 2
}
