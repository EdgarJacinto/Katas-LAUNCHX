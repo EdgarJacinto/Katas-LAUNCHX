{
 "cells": [
  {
   "cell_type": "code",
   "execution_count": 2,
   "metadata": {},
   "outputs": [
    {
     "name": "stdout",
     "output_type": "stream",
     "text": [
      "Elegiste Mercury \n",
      "Tu planeta es el  1 planeta del sistema solar\n"
     ]
    }
   ],
   "source": [
    "planetas = ['Mercury', 'Venus', 'Earth', 'Mars', 'Jupiter', 'Saturn', 'Neptune']\n",
    "planeta = input ('Escribe un nombre de un planeta')\n",
    "planeta2 = planeta.title()\n",
    "planeta_index = planetas.index (planeta2)\n",
    "print('Elegiste', planeta2 ,'\\nTu planeta es el ', planeta_index + 1, 'planeta del sistema solar')"
   ]
  },
  {
   "cell_type": "code",
   "execution_count": 22,
   "metadata": {},
   "outputs": [
    {
     "name": "stdout",
     "output_type": "stream",
     "text": [
      "Tu planeta Jupit\n",
      "probablemente está en otro sistema solar ┐(‘～`；)┌\n",
      "\n"
     ]
    }
   ],
   "source": [
    "planetas = ['Mercury', 'Venus', 'Earth', 'Mars', 'Jupiter', 'Saturn', 'Neptune']\n",
    "planeta = input ('Escribe un nombre de un planeta')\n",
    "planeta2 = planeta.title()\n",
    "template = \"\"\"Tu planeta {planeta2}\n",
    "probablemente está en otro sistema solar ┐(‘～`；)┌\n",
    "\"\"\"\n",
    "if planeta2 in planetas:\n",
    "    planeta_index = planetas.index (planeta2)\n",
    "    print('Elegiste', planeta2 ,'\\nTu planeta es el ', planeta_index + 1, 'planeta del sistema solar')\n",
    "else:\n",
    "    print(template.format(planeta2=planeta2))"
   ]
  },
  {
   "cell_type": "code",
   "execution_count": 8,
   "metadata": {},
   "outputs": [
    {
     "name": "stdout",
     "output_type": "stream",
     "text": [
      "Elegiste Venus \n",
      "Tu planeta es el  2 planeta del sistema solar \n",
      " y el más cercano es ['Mercury']\n"
     ]
    }
   ],
   "source": [
    "planetas = ['Mercury', 'Venus', 'Earth', 'Mars', 'Jupiter', 'Saturn', 'Neptune']\n",
    "planeta = input ('Escribe un nombre de un planeta')\n",
    "planeta2 = planeta.title()\n",
    "planeta_index = planetas.index (planeta2)\n",
    "print('Elegiste', planeta2 ,'\\nTu planeta es el ', planeta_index + 1,'planeta del sistema solar',\n",
    "        '\\n y el más cercano es' ,planetas[0:planeta_index])\n"
   ]
  },
  {
   "cell_type": "code",
   "execution_count": 7,
   "metadata": {},
   "outputs": [
    {
     "name": "stdout",
     "output_type": "stream",
     "text": [
      "Elegiste Saturn \n",
      "Tu planeta es el  6 planeta del sistema solar \n",
      "y el más lejano a es Uranus\n"
     ]
    }
   ],
   "source": [
    "planetas = ['Mercury', 'Venus', 'Earth', 'Mars', 'Jupiter', 'Saturn', 'Uranus','Neptune']\n",
    "planeta = input ('Escribe un nombre de un planeta')\n",
    "planeta2 = planeta.title()\n",
    "planeta_index = planetas.index (planeta2)\n",
    "print('Elegiste', planeta2 ,'\\nTu planeta es el ', planeta_index + 1, 'planeta del sistema solar',\n",
    "        '\\ny el más lejano a es' ,planetas[planeta_index+1])"
   ]
  },
  {
   "cell_type": "code",
   "execution_count": 23,
   "metadata": {},
   "outputs": [
    {
     "name": "stdout",
     "output_type": "stream",
     "text": [
      "Tu Planeta Sa\n",
      "Probablemente Está En Otro Sistema Solar ┐(‘～`；)┌\n",
      "\n"
     ]
    }
   ],
   "source": [
    "planetas = ['Mercury', 'Venus', 'Earth', 'Mars', 'Jupiter', 'Saturn', 'Uranus','Neptune']\n",
    "planeta = input ('Escribe un nombre de un planeta')\n",
    "planeta2 = planeta.title()\n",
    "template = \"\"\"Tu planeta {planeta2}\n",
    "probablemente está en otro sistema solar ┐(‘～`；)┌\n",
    "\"\"\"\n",
    "template2 = \"\"\"Tu planeta {num} del sistema solar\n",
    "{Mercury} es el más cercano al Sol (ﾉ◕ヮ◕)ﾉ*:･ﾟ✧\n",
    "\"\"\"\n",
    "template3 = \"\"\"Tu planeta es el {num} del sistema solar, \n",
    "{Neptune} es el más lejano al Sol (ಥ_ಥ)\n",
    "\"\"\"\n",
    "if planeta2 in planetas:\n",
    "    if planeta2 == planetas[0]:\n",
    "        planeta_index = planetas.index (planeta2)\n",
    "        print(template2.format(num=planeta_index+1,Mercury=planeta2))\n",
    "    elif planeta2 == planetas[-1]:\n",
    "        planeta_index = planetas.index (planeta2)\n",
    "        print(template3.format(num=planeta_index+1,Neptune=planeta2))\n",
    "    else:\n",
    "        planeta_index = planetas.index (planeta2)\n",
    "        print('Elegiste', planeta2 ,'\\nTu planeta es el ', planeta_index + 1, 'planeta del sistema solar',\n",
    "        '\\ny el anterior a este es' ,planetas[planeta_index-1],\n",
    "        '\\ny siguiente es' ,planetas[planeta_index+1],'con respecto al sol.')\n",
    "else:\n",
    "    print(template.format(planeta2=planeta2).title())"
   ]
  }
 ],
 "metadata": {
  "interpreter": {
   "hash": "8af10757d2bcd5203fb5e194b066b22134c339615910c93456ca168f79d9d5ed"
  },
  "kernelspec": {
   "display_name": "Python 3.10.2 64-bit (windows store)",
   "language": "python",
   "name": "python3"
  },
  "language_info": {
   "codemirror_mode": {
    "name": "ipython",
    "version": 3
   },
   "file_extension": ".py",
   "mimetype": "text/x-python",
   "name": "python",
   "nbconvert_exporter": "python",
   "pygments_lexer": "ipython3",
   "version": "3.10.2"
  },
  "orig_nbformat": 4
 },
 "nbformat": 4,
 "nbformat_minor": 2
}
